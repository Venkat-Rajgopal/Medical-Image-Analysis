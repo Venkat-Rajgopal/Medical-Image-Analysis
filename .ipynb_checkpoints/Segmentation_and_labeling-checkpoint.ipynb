{
 "cells": [
  {
   "cell_type": "markdown",
   "metadata": {},
   "source": [
    "In this section we focus on Image segmentation. \n",
    "\n",
    "We analyse the Cradic Magnetic resonance imaging data from the **Sunnybrook cardiac database**. Each sunnybrook data contains a 3d time series of a persons heart beat.  "
   ]
  }
 ],
 "metadata": {
  "kernelspec": {
   "display_name": "Python 3",
   "language": "python",
   "name": "python3"
  },
  "language_info": {
   "codemirror_mode": {
    "name": "ipython",
    "version": 3
   },
   "file_extension": ".py",
   "mimetype": "text/x-python",
   "name": "python",
   "nbconvert_exporter": "python",
   "pygments_lexer": "ipython3",
   "version": "3.6.6"
  }
 },
 "nbformat": 4,
 "nbformat_minor": 2
}
