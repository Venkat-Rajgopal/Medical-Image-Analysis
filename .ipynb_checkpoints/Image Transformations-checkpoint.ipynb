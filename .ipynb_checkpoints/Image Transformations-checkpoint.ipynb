{
 "cells": [
  {
   "cell_type": "markdown",
   "metadata": {},
   "source": [
    "# Spatial Transformation"
   ]
  },
  {
   "cell_type": "markdown",
   "metadata": {},
   "source": [
    "To describe the effect of ageing and the 3D MRI images where gathered.  The participants ranging from 18-80 and many of them having mild to severe Alzimers disease. \n",
    "\n",
    "In a large image dataset there will be discrepances like sampling ration, Object orientation and object placement within the image window. One way to address this issue is to register the image into a predifined coordinate system.\n",
    "\n",
    "### Registration\n",
    "Registration requires multiple adjustments like shifting, adjustment and scaling. Steps like, \n",
    "- Align images to a template\n",
    "- Minimize spatial variability\n",
    "\n",
    "Afine transformation modify an image by preserving all points, lines and planes. \n",
    "\n",
    "For ex, *Scaling* increases or decreases the size of the image. \n",
    "A *Shearing* operation shifts the incident axis away from each other. "
   ]
  },
  {
   "cell_type": "markdown",
   "metadata": {},
   "source": [
    "## Translations"
   ]
  },
  {
   "cell_type": "markdown",
   "metadata": {},
   "source": [
    "The data is taken from OASIS to compare brains of different populations. "
   ]
  },
  {
   "cell_type": "code",
   "execution_count": 1,
   "metadata": {},
   "outputs": [],
   "source": [
    "import imageio\n",
    "import numpy as np\n",
    "import scipy.ndimage as ndi\n",
    "import matplotlib.pyplot as plt"
   ]
  },
  {
   "cell_type": "markdown",
   "metadata": {},
   "source": [
    "First center a singkle slice of a 3D brain volume. i.e first find the center point in the image array and the center of mass of the brain. Then translate the image to the center. "
   ]
  },
  {
   "cell_type": "code",
   "execution_count": null,
   "metadata": {},
   "outputs": [],
   "source": []
  },
  {
   "cell_type": "code",
   "execution_count": null,
   "metadata": {},
   "outputs": [],
   "source": [
    "im = imageio.imread('Data/')"
   ]
  }
 ],
 "metadata": {
  "kernelspec": {
   "display_name": "Python 3",
   "language": "python",
   "name": "python3"
  },
  "language_info": {
   "codemirror_mode": {
    "name": "ipython",
    "version": 3
   },
   "file_extension": ".py",
   "mimetype": "text/x-python",
   "name": "python",
   "nbconvert_exporter": "python",
   "pygments_lexer": "ipython3",
   "version": "3.7.3"
  }
 },
 "nbformat": 4,
 "nbformat_minor": 2
}
