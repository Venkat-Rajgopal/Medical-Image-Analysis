{
 "cells": [
  {
   "cell_type": "markdown",
   "metadata": {},
   "source": [
    "# Spatial Transformation"
   ]
  },
  {
   "cell_type": "markdown",
   "metadata": {},
   "source": [
    "To describe the effect of ageing and the 3D MRI images where gathered.  The participants ranging from 18-80 and many of them having mild to severe Alzimers disease. \n",
    "\n",
    "In a large image dataset there will be discrepances like sampling ration, Object orientation and object placement within the image window. One way to address this issue is to register the image into a predifined coordinate system.\n",
    "\n",
    "### Registration\n",
    "Registration requires multiple adjustments like shifting, adjustment and scaling. Steps like, \n",
    "- Align images to a template\n",
    "- Minimize spatial variability\n",
    "\n",
    "Afine transformation modify an image by preserving all points, lines and planes. \n",
    "\n",
    "For ex, *Scaling* increases or decreases the size of the image. \n",
    "A *Shearing* operation shifts the incident axis away from each other. "
   ]
  },
  {
   "cell_type": "markdown",
   "metadata": {},
   "source": [
    "## Translations"
   ]
  },
  {
   "cell_type": "markdown",
   "metadata": {},
   "source": [
    "The data is taken from OASIS to compare brains of different populations. "
   ]
  },
  {
   "cell_type": "code",
   "execution_count": 2,
   "metadata": {},
   "outputs": [],
   "source": [
    "import imageio\n",
    "import numpy as np\n",
    "import scipy.ndimage as ndi\n",
    "import matplotlib.pyplot as plt"
   ]
  },
  {
   "cell_type": "markdown",
   "metadata": {},
   "source": [
    "First center a singkle slice of a 3D brain volume. i.e first find the center point in the image array and the center of mass of the brain. Then translate the image to the center. "
   ]
  },
  {
   "cell_type": "code",
   "execution_count": null,
   "metadata": {},
   "outputs": [],
   "source": [
    "# Find image center of mass\n",
    "com = ndi.center_of_mass(im)\n",
    "\n",
    "# Calculate amount of shift needed\n",
    "d0 = 128 - com[0]\n",
    "d1 = 128 - com[1]\n",
    "\n",
    "# Translate the brain towards the center\n",
    "xfm = ndi.shift(im, shift=(d0, d1))\n",
    "\n",
    "# Plot the original and adjusted images\n",
    "fig, axes = plt.subplots(nrows=2, ncols=1)\n",
    "axes[0].imshow(im)\n",
    "axes[1].imshow(xfm)"
   ]
  },
  {
   "cell_type": "markdown",
   "metadata": {},
   "source": [
    "In cases where an object is angled or flipped, the image can be rotated. Using `ndi.rotate()`, the image is rotated from its center by the specified degrees from the right horizontal axis."
   ]
  },
  {
   "cell_type": "code",
   "execution_count": null,
   "metadata": {},
   "outputs": [],
   "source": [
    "# Shift the image towards the center\n",
    "xfm = ndi.shift(im, shift=(-20, -20))\n",
    "\n",
    "# Rotate the shifted image\n",
    "xfm = ndi.rotate(xfm, angle=-30, reshape=False)\n",
    "\n",
    "# Plot the original and transformed images\n",
    "fig, axes = plt.subplots(2, 1)\n",
    "axes[0].imshow(im)\n",
    "axes[1].imshow(xfm)"
   ]
  },
  {
   "cell_type": "markdown",
   "metadata": {},
   "source": [
    "## Resampling\n",
    "\n",
    "When comparing images, differences between sampling rates and array shapes. Resampling is one way to address this issue. \n",
    "\n",
    "Resampling is just slicing your data into a different array. Its is distant from cropping and the field of view does not change. ie, It changes the array shape. The amount if space sampled by each pixel is increased or decreased. \n",
    "\n",
    "One such method is *Downsampling*, where the information is merged across multiple pixels to reduce the image size. \n",
    "\n",
    "*Upsampling* on the other side resamples image to a larger grid. Important to note that it does not increase the resolution and it is not the same as getting more data. \n",
    "\n",
    "To upsample an image we use the `ndi.zoom()` function ans specify a larger zoom factor. "
   ]
  },
  {
   "cell_type": "markdown",
   "metadata": {},
   "source": [
    "## Interpolation\n",
    "\n",
    "Resampling creates a brand new image based on the old one. In most of these cases it requires filling out data which wasn't originally there. This Estimation process is called Interpolation. \n",
    "\n",
    "For interpolation we generally use a *Nearest nieghbour* method which uses the closest measured value or *B-Spline Interpolation* a higher order method which is space between points with spline functions of a specified order. The order is between 1 and 5, i.e it uses a set of functions that model the space between points. Order controls the complexity. Order of 1 in linear, 2 is quadratic and so on. "
   ]
  },
  {
   "cell_type": "code",
   "execution_count": 3,
   "metadata": {
    "scrolled": false
   },
   "outputs": [
    {
     "data": {
      "image/png": "[encoded data removed]",
      "text/plain": [
       "<Figure size 432x288 with 1 Axes>"
      ]
     },
     "metadata": {
      "needs_background": "light"
     },
     "output_type": "display_data"
    }
   ],
   "source": [
    "# Example. \n",
    "\n",
    "import numpy as np\n",
    "import matplotlib.pyplot as plt\n",
    "im = np.arange(100).reshape([10,10])\n",
    "plt.imshow(im)\n",
    "plt.show()"
   ]
  },
  {
   "cell_type": "markdown",
   "metadata": {},
   "source": [
    "a `zoom` order of 0 essentially returns the same image. whereas a higher order shows a smoother gradient of change. "
   ]
  },
  {
   "cell_type": "code",
   "execution_count": 11,
   "metadata": {
    "scrolled": true
   },
   "outputs": [
    {
     "data": {
      "text/plain": [
       "<matplotlib.image.AxesImage at 0x1219735f8>"
      ]
     },
     "execution_count": 11,
     "metadata": {},
     "output_type": "execute_result"
    },
    {
     "data": {
      "image/png": "[encoded data removed]",
      "text/plain": [
       "<Figure size 432x288 with 3 Axes>"
      ]
     },
     "metadata": {
      "needs_background": "light"
     },
     "output_type": "display_data"
    }
   ],
   "source": [
    "zm1 = ndi.zoom(im, zoom = 10, order = 0)\n",
    "zm2 = ndi.zoom(im, zoom = 10, order = 2)\n",
    "zm3 = ndi.zoom(im, zoom = 10, order = 3)\n",
    "\n",
    "\n",
    "fig, axes = plt.subplots(1, 3)\n",
    "axes[0].imshow(zm1)\n",
    "axes[1].imshow(zm2)\n",
    "axes[2].imshow(zm3)"
   ]
  },
  {
   "cell_type": "code",
   "execution_count": null,
   "metadata": {},
   "outputs": [],
   "source": [
    "# Resampling is done as below. Below is a sample code. \n",
    "\n",
    "# Center and level image\n",
    "xfm = ndi.shift(im, shift=(-20, -20))\n",
    "xfm = ndi.rotate(xfm, angle=-35, reshape=False)\n",
    "\n",
    "# Resample image\n",
    "im_dn = ndi.zoom(xfm, zoom=0.25)\n",
    "im_up = ndi.zoom(xfm, zoom=4.00)\n",
    "\n",
    "# Plot the images\n",
    "fig, axes = plt.subplots(2, 1)\n",
    "axes[0].imshow(im_dn)\n",
    "axes[1].imshow(im_up)"
   ]
  },
  {
   "cell_type": "markdown",
   "metadata": {},
   "source": [
    "Interpolation is applied using SciPy's spline function. Here is an example. "
   ]
  },
  {
   "cell_type": "code",
   "execution_count": 17,
   "metadata": {},
   "outputs": [
    {
     "data": {
      "text/plain": [
       "<matplotlib.legend.Legend at 0x132f520b8>"
      ]
     },
     "execution_count": 17,
     "metadata": {},
     "output_type": "execute_result"
    },
    {
     "data": {
      "image/png": "[encoded data removed]",
      "text/plain": [
       "<Figure size 432x288 with 1 Axes>"
      ]
     },
     "metadata": {
      "needs_background": "light"
     },
     "output_type": "display_data"
    }
   ],
   "source": [
    "from scipy.interpolate import interp1d\n",
    "x = np.linspace(0, 10, num=11, endpoint=True)\n",
    "y = np.cos(-x**2/9.0)\n",
    "f = interp1d(x, y)\n",
    "f2 = interp1d(x, y, kind='cubic')\n",
    "xnew = np.linspace(0, 10,num=41, endpoint=True)\n",
    "plt.plot(x, y, 'o', xnew, f(xnew), '-', xnew, f2(xnew), '--')\n",
    "plt.legend(['data', 'linear', 'cubic'], loc='best')"
   ]
  }
 ],
 "metadata": {
  "kernelspec": {
   "display_name": "Python 3",
   "language": "python",
   "name": "python3"
  },
  "language_info": {
   "codemirror_mode": {
    "name": "ipython",
    "version": 3
   },
   "file_extension": ".py",
   "mimetype": "text/x-python",
   "name": "python",
   "nbconvert_exporter": "python",
   "pygments_lexer": "ipython3",
   "version": "3.7.3"
  }
 },
 "nbformat": 4,
 "nbformat_minor": 2
}
